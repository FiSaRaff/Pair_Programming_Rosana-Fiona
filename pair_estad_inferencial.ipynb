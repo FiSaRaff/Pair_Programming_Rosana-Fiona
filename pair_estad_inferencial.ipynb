{
 "cells": [
  {
   "cell_type": "code",
   "execution_count": 1,
   "metadata": {},
   "outputs": [],
   "source": [
    "# importamos las librerías que necesitamos\n",
    "\n",
    "# Tratamiento de datos\n",
    "# -----------------------------------------------------------------------\n",
    "import pandas as pd\n",
    "import numpy as np\n",
    "\n",
    "# Visualización\n",
    "# ------------------------------------------------------------------------------\n",
    "import matplotlib.pyplot as plt\n",
    "import seaborn as sns\n",
    "\n",
    "# Evaluar linealidad de las relaciones entre las variables\n",
    "# y la distribución de las variables\n",
    "# ------------------------------------------------------------------------------\n",
    "#import scipy.stats as stats\n",
    "import scipy.stats as stats\n",
    "from scipy.stats import shapiro, poisson, chisquare, expon, kstest\n",
    "\n",
    "\n",
    "# Configuración\n",
    "# -----------------------------------------------------------------------\n",
    "pd.set_option('display.max_columns', None) # para poder visualizar todas las columnas de los DataFrames\n",
    "\n",
    "# Gestión de los warnings\n",
    "# -----------------------------------------------------------------------\n",
    "import warnings\n",
    "warnings.filterwarnings(\"ignore\")"
   ]
  },
  {
   "cell_type": "code",
   "execution_count": 2,
   "metadata": {},
   "outputs": [
    {
     "data": {
      "text/html": [
       "<div>\n",
       "<style scoped>\n",
       "    .dataframe tbody tr th:only-of-type {\n",
       "        vertical-align: middle;\n",
       "    }\n",
       "\n",
       "    .dataframe tbody tr th {\n",
       "        vertical-align: top;\n",
       "    }\n",
       "\n",
       "    .dataframe thead th {\n",
       "        text-align: right;\n",
       "    }\n",
       "</style>\n",
       "<table border=\"1\" class=\"dataframe\">\n",
       "  <thead>\n",
       "    <tr style=\"text-align: right;\">\n",
       "      <th></th>\n",
       "      <th>country</th>\n",
       "      <th>density</th>\n",
       "      <th>abbreviation</th>\n",
       "      <th>agricultural_land</th>\n",
       "      <th>land_area</th>\n",
       "      <th>armed_forces_size</th>\n",
       "      <th>birth_rate</th>\n",
       "      <th>calling_code</th>\n",
       "      <th>capital/major_city</th>\n",
       "      <th>co2-emissions</th>\n",
       "      <th>cpi</th>\n",
       "      <th>cpi_change</th>\n",
       "      <th>currency-code</th>\n",
       "      <th>fertility_rate</th>\n",
       "      <th>forested_area</th>\n",
       "      <th>gasoline_price</th>\n",
       "      <th>gdp</th>\n",
       "      <th>gross_primary_education_enrollment</th>\n",
       "      <th>gross_tertiary_education_enrollment</th>\n",
       "      <th>infant_mortality</th>\n",
       "      <th>largest_city</th>\n",
       "      <th>life_expectancy</th>\n",
       "      <th>maternal_mortality_ratio</th>\n",
       "      <th>minimum_wage</th>\n",
       "      <th>official_language</th>\n",
       "      <th>out_of_pocket_health_expenditure</th>\n",
       "      <th>physicians_per_thousand</th>\n",
       "      <th>population</th>\n",
       "      <th>population_labor_force_participation</th>\n",
       "      <th>tax_revenue</th>\n",
       "      <th>total_tax_rate</th>\n",
       "      <th>unemployment_rate</th>\n",
       "      <th>urban_population</th>\n",
       "      <th>latitude</th>\n",
       "      <th>longitude</th>\n",
       "      <th>continent</th>\n",
       "    </tr>\n",
       "  </thead>\n",
       "  <tbody>\n",
       "    <tr>\n",
       "      <th>0</th>\n",
       "      <td>Afghanistan</td>\n",
       "      <td>60.0</td>\n",
       "      <td>AF</td>\n",
       "      <td>58.1</td>\n",
       "      <td>652.230</td>\n",
       "      <td>323.0</td>\n",
       "      <td>32.49</td>\n",
       "      <td>93.0</td>\n",
       "      <td>Kabul</td>\n",
       "      <td>8.672</td>\n",
       "      <td>149.90</td>\n",
       "      <td>2.3</td>\n",
       "      <td>AFN</td>\n",
       "      <td>4.47</td>\n",
       "      <td>2.1</td>\n",
       "      <td>0.70</td>\n",
       "      <td>1.910135e+10</td>\n",
       "      <td>104.0</td>\n",
       "      <td>9.7</td>\n",
       "      <td>47.9</td>\n",
       "      <td>Kabul</td>\n",
       "      <td>64.5</td>\n",
       "      <td>638.0</td>\n",
       "      <td>0.43</td>\n",
       "      <td>Pashto</td>\n",
       "      <td>78.4</td>\n",
       "      <td>0.28</td>\n",
       "      <td>NaN</td>\n",
       "      <td>48.9</td>\n",
       "      <td>9.3</td>\n",
       "      <td>71.4</td>\n",
       "      <td>11.12</td>\n",
       "      <td>NaN</td>\n",
       "      <td>33.939110</td>\n",
       "      <td>67.709953</td>\n",
       "      <td>Asia</td>\n",
       "    </tr>\n",
       "    <tr>\n",
       "      <th>1</th>\n",
       "      <td>Albania</td>\n",
       "      <td>105.0</td>\n",
       "      <td>AL</td>\n",
       "      <td>43.1</td>\n",
       "      <td>28.748</td>\n",
       "      <td>9.0</td>\n",
       "      <td>11.78</td>\n",
       "      <td>355.0</td>\n",
       "      <td>Tirana</td>\n",
       "      <td>4.536</td>\n",
       "      <td>119.05</td>\n",
       "      <td>1.4</td>\n",
       "      <td>ALL</td>\n",
       "      <td>1.62</td>\n",
       "      <td>28.1</td>\n",
       "      <td>1.36</td>\n",
       "      <td>1.527808e+10</td>\n",
       "      <td>107.0</td>\n",
       "      <td>55.0</td>\n",
       "      <td>7.8</td>\n",
       "      <td>Tirana</td>\n",
       "      <td>78.5</td>\n",
       "      <td>15.0</td>\n",
       "      <td>1.12</td>\n",
       "      <td>Albanian</td>\n",
       "      <td>56.9</td>\n",
       "      <td>1.20</td>\n",
       "      <td>NaN</td>\n",
       "      <td>55.7</td>\n",
       "      <td>18.6</td>\n",
       "      <td>36.6</td>\n",
       "      <td>12.33</td>\n",
       "      <td>NaN</td>\n",
       "      <td>41.153332</td>\n",
       "      <td>20.168331</td>\n",
       "      <td>Europe</td>\n",
       "    </tr>\n",
       "  </tbody>\n",
       "</table>\n",
       "</div>"
      ],
      "text/plain": [
       "       country  density abbreviation  agricultural_land  land_area  \\\n",
       "0  Afghanistan     60.0           AF               58.1    652.230   \n",
       "1      Albania    105.0           AL               43.1     28.748   \n",
       "\n",
       "   armed_forces_size  birth_rate  calling_code capital/major_city  \\\n",
       "0              323.0       32.49          93.0              Kabul   \n",
       "1                9.0       11.78         355.0             Tirana   \n",
       "\n",
       "   co2-emissions     cpi  cpi_change currency-code  fertility_rate  \\\n",
       "0          8.672  149.90         2.3           AFN            4.47   \n",
       "1          4.536  119.05         1.4           ALL            1.62   \n",
       "\n",
       "   forested_area  gasoline_price           gdp  \\\n",
       "0            2.1            0.70  1.910135e+10   \n",
       "1           28.1            1.36  1.527808e+10   \n",
       "\n",
       "   gross_primary_education_enrollment  gross_tertiary_education_enrollment  \\\n",
       "0                               104.0                                  9.7   \n",
       "1                               107.0                                 55.0   \n",
       "\n",
       "   infant_mortality largest_city  life_expectancy  maternal_mortality_ratio  \\\n",
       "0              47.9        Kabul             64.5                     638.0   \n",
       "1               7.8       Tirana             78.5                      15.0   \n",
       "\n",
       "   minimum_wage official_language  out_of_pocket_health_expenditure  \\\n",
       "0          0.43            Pashto                              78.4   \n",
       "1          1.12          Albanian                              56.9   \n",
       "\n",
       "   physicians_per_thousand  population  population_labor_force_participation  \\\n",
       "0                     0.28         NaN                                  48.9   \n",
       "1                     1.20         NaN                                  55.7   \n",
       "\n",
       "   tax_revenue  total_tax_rate  unemployment_rate  urban_population  \\\n",
       "0          9.3            71.4              11.12               NaN   \n",
       "1         18.6            36.6              12.33               NaN   \n",
       "\n",
       "    latitude  longitude continent  \n",
       "0  33.939110  67.709953      Asia  \n",
       "1  41.153332  20.168331    Europe  "
      ]
     },
     "execution_count": 2,
     "metadata": {},
     "output_type": "execute_result"
    }
   ],
   "source": [
    "# lo primero que hacemos es cargar el dataframe que vamos a usar \n",
    "\n",
    "df = pd.read_csv(\"world_data_full_apply_nulos.csv\", index_col = 0)\n",
    "df.head(2)"
   ]
  },
  {
   "cell_type": "markdown",
   "metadata": {},
   "source": [
    "### Ejercicios estadística inferencial\n",
    "\n",
    "#### Ejercicios intervalo de confianza. \n",
    "\n",
    "Al igual que en el caso del ejercicio de la clase invertida, piensa un motivo por el que sería interesante calcular estos intervalos de confianza para la extracción de insights.\n",
    "\n",
    "- Intervalo de Confianza para la Esperanza de Vida\n",
    "\n",
    "Contexto: Trabajas en una organización de salud global y deseas estimar el intervalo de confianza al 95% para la esperanza de vida promedio de cada continente.\n",
    "\n",
    "Nota: Cuidado porque puede que os salgan algunos nulos, genera un código para que no salgan nulos en los intervalos de confianza.\n",
    "\n",
    "\n"
   ]
  },
  {
   "cell_type": "code",
   "execution_count": 4,
   "metadata": {},
   "outputs": [
    {
     "data": {
      "text/plain": [
       "np.float64(72.27967914438503)"
      ]
     },
     "execution_count": 4,
     "metadata": {},
     "output_type": "execute_result"
    }
   ],
   "source": [
    "media_esperanza_vida = df[\"life_expectancy\"].mean()\n",
    "media_esperanza_vida"
   ]
  },
  {
   "cell_type": "code",
   "execution_count": 5,
   "metadata": {},
   "outputs": [
    {
     "data": {
      "text/plain": [
       "continent\n",
       "Africa             63.725000\n",
       "Asia               73.781818\n",
       "Central America    74.690000\n",
       "Europe             79.202326\n",
       "North America      80.200000\n",
       "Oceania            71.125000\n",
       "South America      74.815385\n",
       "Name: life_expectancy, dtype: float64"
      ]
     },
     "execution_count": 5,
     "metadata": {},
     "output_type": "execute_result"
    }
   ],
   "source": [
    "df.groupby(\"continent\")[\"life_expectancy\"].mean()"
   ]
  },
  {
   "cell_type": "code",
   "execution_count": 18,
   "metadata": {},
   "outputs": [
    {
     "name": "stdout",
     "output_type": "stream",
     "text": [
      "Intervalos de Confianza para la Esperanza de Vida por Continente:\n"
     ]
    },
    {
     "ename": "TypeError",
     "evalue": "'int' object is not subscriptable",
     "output_type": "error",
     "traceback": [
      "\u001b[0;31m---------------------------------------------------------------------------\u001b[0m",
      "\u001b[0;31mTypeError\u001b[0m                                 Traceback (most recent call last)",
      "Cell \u001b[0;32mIn[18], line 26\u001b[0m\n\u001b[1;32m     23\u001b[0m \u001b[38;5;28mprint\u001b[39m(\u001b[38;5;124m\"\u001b[39m\u001b[38;5;124mIntervalos de Confianza para la Esperanza de Vida por Continente:\u001b[39m\u001b[38;5;124m\"\u001b[39m)\n\u001b[1;32m     24\u001b[0m \u001b[38;5;28;01mfor\u001b[39;00m continente \u001b[38;5;129;01min\u001b[39;00m media_vida_continente\u001b[38;5;241m.\u001b[39mindex:\n\u001b[1;32m     25\u001b[0m     \u001b[38;5;66;03m# Calcular el valor crítico de t para cada continente (cada uno con sus propios grados de libertad)\u001b[39;00m\n\u001b[0;32m---> 26\u001b[0m     valor_critico_vida \u001b[38;5;241m=\u001b[39m stats\u001b[38;5;241m.\u001b[39mt\u001b[38;5;241m.\u001b[39mppf((\u001b[38;5;241m1\u001b[39m \u001b[38;5;241m+\u001b[39m nivel_confianza_vida) \u001b[38;5;241m/\u001b[39m \u001b[38;5;241m2\u001b[39m, df\u001b[38;5;241m=\u001b[39m\u001b[43mgrados_libertad_vida\u001b[49m\u001b[43m[\u001b[49m\u001b[43mcontinente\u001b[49m\u001b[43m]\u001b[49m)\n\u001b[1;32m     28\u001b[0m     \u001b[38;5;66;03m# Calcular el intervalo de confianza\u001b[39;00m\n\u001b[1;32m     29\u001b[0m     limite_inferior_vida \u001b[38;5;241m=\u001b[39m media_vida_continente[continente] \u001b[38;5;241m-\u001b[39m valor_critico_vida \u001b[38;5;241m*\u001b[39m error_vida_continente[continente]\n",
      "\u001b[0;31mTypeError\u001b[0m: 'int' object is not subscriptable"
     ]
    }
   ],
   "source": [
    "# Nuestra organización destinará más recursos a los continentes donde la esperanza de vida sea más baja.\n",
    "\n",
    "# Primero, eliminamos los valores nulos en la columna de 'life_expectancy' y 'continent'\n",
    "df_clean = df.dropna(subset=['life_expectancy', 'continent'])\n",
    "\n",
    "# lo primero que tenemos que hacer es calcular la estimación puntual, en este caso calcularemos la media de la esperanza de vida por continente.\n",
    "media_vida_continente = df_clean.groupby(\"continent\")[\"life_expectancy\"].mean()\n",
    "\n",
    "\n",
    "# después vamos a calcular el error estándar utilizando el método \"sem\" de la librería stats\n",
    "error_vida_continente = df_clean.groupby('continent')['life_expectancy'].apply(stats.sem)\n",
    "\n",
    "# definimos el nivel de confianza (95% en este caso)\n",
    "nivel_confianza_vida = 0.95\n",
    "\n",
    "# calculamos los grados de libertad de la muestra. Recordad que debemos restar el total de datos que tenemos -1. \n",
    "grados_libertad_vida = len(df_clean.groupby(\"continent\")[\"life_expectancy\"]) - 1\n",
    "\n",
    "# calculamos el valor crítico de la muestra\n",
    "valor_critico_duracion = stats.t.ppf((1 + nivel_confianza_vida) / 2, df=grados_libertad_vida) # df = DEGREES OF FREEDOM!!!!!!!\n",
    "\n",
    "# Calcular el intervalo de confianza para cada continente\n",
    "print(\"Intervalos de Confianza para la Esperanza de Vida por Continente:\")\n",
    "for continente in media_vida_continente.index:\n",
    "    \n",
    "    # Calcular el tamaño de la muestra para cada continente\n",
    "    n_continente = df_clean[df_clean[\"continent\"] == continente].shape[0]\n",
    "\n",
    "    # Calcular el valor crítico de t para cada continente (cada uno con sus propios grados de libertad)\n",
    "    valor_critico_vida = stats.t.ppf((1 + nivel_confianza_vida) / 2, df=grados_libertad_vida[continente])\n",
    "\n",
    "    # Calcular el intervalo de confianza\n",
    "    limite_inferior_vida = media_vida_continente[continente] - valor_critico_vida * error_vida_continente[continente]\n",
    "    limite_superior_vida = media_vida_continente[continente] + valor_critico_vida * error_vida_continente[continente]\n",
    "\n",
    "    # Mostrar los resultados para cada continente\n",
    "    print(f\"\\nContinente: {continente}\")\n",
    "    print(f\"Media Muestral: {np.round(media_vida_continente[continente], 2)}\")\n",
    "    print(f\"Error Estándar: {np.round(error_vida_continente[continente], 2)}\")\n",
    "    print(f\"Nivel de Confianza: {nivel_confianza_vida}\")\n",
    "    print(f\"Valor Crítico: {np.round(valor_critico_vida, 2)}\")\n",
    "    print(f\"Intervalo de Confianza: ({np.round(limite_inferior_vida, 2)}, {np.round(limite_superior_vida, 2)})\")\n"
   ]
  },
  {
   "cell_type": "code",
   "execution_count": null,
   "metadata": {},
   "outputs": [],
   "source": [
    "\n",
    "print(\"Intervalo de Confianza para la Media de Esperanza de Vida por Continente:\")\n",
    "print(f\"Media Muestral: {np.round(media_vida_continente, 2)}\")\n",
    "print(f\"Error Estándar: {np.round(error_duracion, 2)}\")\n",
    "print(f\"Nivel de Confianza: {nivel_confianza_duracion}\")\n",
    "print(f\"Valor Crítico: {np.round(valor_critico_duracion, 2)}\")\n",
    "print(f\"Intervalo de Confianza: ({np.round(limite_inferior_duracion, 2)}, {np.round(limite_superior_duracion, 2)})\")"
   ]
  },
  {
   "cell_type": "markdown",
   "metadata": {},
   "source": [
    "- Intervalo de Confianza para el PIB\n",
    "\n",
    "Contexto: Eres una economista y quieres calcular el intervalo de confianza al 90% para el Producto Interno Bruto (PIB) de los continentes.\n"
   ]
  },
  {
   "cell_type": "code",
   "execution_count": null,
   "metadata": {},
   "outputs": [],
   "source": []
  },
  {
   "cell_type": "markdown",
   "metadata": {},
   "source": [
    "### Bonus\n",
    "\n",
    "- Intervalo de Confianza para la Tasa de Natalidad\n",
    "\n",
    "Contexto: Trabajas en una agencia gubernamental que se ocupa de cuestiones demográficas y deseas determinar el intervalo de confianza al 99% para la tasa de natalidad promedio en Asia.\n",
    "\n"
   ]
  },
  {
   "cell_type": "code",
   "execution_count": null,
   "metadata": {},
   "outputs": [],
   "source": []
  },
  {
   "cell_type": "markdown",
   "metadata": {},
   "source": [
    "- Intervalo de Confianza para la Tasa de Desempleo\n",
    "\n",
    "Contexto: Eres un analista de políticas públicas y deseas calcular el intervalo de confianza al 95% para la tasa de desempleo promedio en los países de Oceanía."
   ]
  },
  {
   "cell_type": "code",
   "execution_count": null,
   "metadata": {},
   "outputs": [],
   "source": []
  },
  {
   "cell_type": "markdown",
   "metadata": {},
   "source": [
    "- Intervalo de Confianza para la Tasa de Impuestos\n",
    "\n",
    "Contexto: Trabajas en un ministerio de finanzas y deseas estimar el intervalo de confianza al 90% para la tasa de impuestos promedio en los países de África.\n"
   ]
  },
  {
   "cell_type": "code",
   "execution_count": null,
   "metadata": {},
   "outputs": [],
   "source": []
  }
 ],
 "metadata": {
  "kernelspec": {
   "display_name": "rosana_conda",
   "language": "python",
   "name": "python3"
  },
  "language_info": {
   "codemirror_mode": {
    "name": "ipython",
    "version": 3
   },
   "file_extension": ".py",
   "mimetype": "text/x-python",
   "name": "python",
   "nbconvert_exporter": "python",
   "pygments_lexer": "ipython3",
   "version": "3.12.6"
  }
 },
 "nbformat": 4,
 "nbformat_minor": 2
}
